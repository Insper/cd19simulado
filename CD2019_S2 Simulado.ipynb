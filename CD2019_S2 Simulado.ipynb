{
 "cells": [
  {
   "cell_type": "markdown",
   "metadata": {},
   "source": [
    "# Simulado para Avaliação final de Ciência dos Dados"
   ]
  },
  {
   "cell_type": "markdown",
   "metadata": {},
   "source": [
    "___"
   ]
  },
  {
   "cell_type": "markdown",
   "metadata": {},
   "source": [
    "# Nome: <font color=red><u>**Coloque seu nome**</u></font>"
   ]
  },
  {
   "cell_type": "markdown",
   "metadata": {},
   "source": [
    "___"
   ]
  },
  {
   "cell_type": "code",
   "execution_count": 1,
   "metadata": {},
   "outputs": [],
   "source": [
    "# Imports que podem ser úteis\n",
    "\n",
    "import pandas as pd;\n",
    "import seaborn as sns # evite fazer pairplot! Estoura a memória\n",
    "import statsmodels.api as sm\n",
    "import numpy as np\n",
    "import matplotlib.pyplot as plt\n",
    "from scipy.stats import expon, binom, t, norm, probplot, scoreatpercentile, percentileofscore\n",
    "%matplotlib inline"
   ]
  },
  {
   "cell_type": "markdown",
   "metadata": {},
   "source": [
    "___"
   ]
  },
  {
   "cell_type": "markdown",
   "metadata": {},
   "source": [
    "### Questão 1 QUANT - Predição de variáveis quantitativas"
   ]
  },
  {
   "cell_type": "markdown",
   "metadata": {},
   "source": [
    "**Faça esta questão se você previu variável Quant em seu projeto**"
   ]
  },
  {
   "cell_type": "markdown",
   "metadata": {},
   "source": [
    "<img src=\"popcorn.jpg\" width=20% alt=\"https://commons.wikimedia.org/wiki/Popcorn#/media/File:Popcorn.jpg\">"
   ]
  },
  {
   "cell_type": "markdown",
   "metadata": {},
   "source": [
    "A base a seguir tem as notas dadas por usuários a filmes (coluna `Ratings`) relacionada com diversos dados de redes sociais, faturamento e exibição.\n"
   ]
  },
  {
   "cell_type": "code",
   "execution_count": 5,
   "metadata": {},
   "outputs": [
    {
     "data": {
      "text/html": [
       "<div>\n",
       "<style scoped>\n",
       "    .dataframe tbody tr th:only-of-type {\n",
       "        vertical-align: middle;\n",
       "    }\n",
       "\n",
       "    .dataframe tbody tr th {\n",
       "        vertical-align: top;\n",
       "    }\n",
       "\n",
       "    .dataframe thead th {\n",
       "        text-align: right;\n",
       "    }\n",
       "</style>\n",
       "<table border=\"1\" class=\"dataframe\">\n",
       "  <thead>\n",
       "    <tr style=\"text-align: right;\">\n",
       "      <th></th>\n",
       "      <th>Movie</th>\n",
       "      <th>Year</th>\n",
       "      <th>Ratings</th>\n",
       "      <th>Genre</th>\n",
       "      <th>Gross</th>\n",
       "      <th>Budget</th>\n",
       "      <th>Screens</th>\n",
       "      <th>Sequel</th>\n",
       "      <th>Sentiment</th>\n",
       "      <th>Views</th>\n",
       "      <th>Likes</th>\n",
       "      <th>Dislikes</th>\n",
       "      <th>Comments</th>\n",
       "      <th>Aggregate Followers</th>\n",
       "    </tr>\n",
       "  </thead>\n",
       "  <tbody>\n",
       "    <tr>\n",
       "      <th>0</th>\n",
       "      <td>13 Sins</td>\n",
       "      <td>2014</td>\n",
       "      <td>6.3</td>\n",
       "      <td>8</td>\n",
       "      <td>9130</td>\n",
       "      <td>4000000.0</td>\n",
       "      <td>45.0</td>\n",
       "      <td>1</td>\n",
       "      <td>0</td>\n",
       "      <td>3280543</td>\n",
       "      <td>4632</td>\n",
       "      <td>425</td>\n",
       "      <td>636</td>\n",
       "      <td>1120000.0</td>\n",
       "    </tr>\n",
       "    <tr>\n",
       "      <th>1</th>\n",
       "      <td>22 Jump Street</td>\n",
       "      <td>2014</td>\n",
       "      <td>7.1</td>\n",
       "      <td>1</td>\n",
       "      <td>192000000</td>\n",
       "      <td>50000000.0</td>\n",
       "      <td>3306.0</td>\n",
       "      <td>2</td>\n",
       "      <td>2</td>\n",
       "      <td>583289</td>\n",
       "      <td>3465</td>\n",
       "      <td>61</td>\n",
       "      <td>186</td>\n",
       "      <td>12350000.0</td>\n",
       "    </tr>\n",
       "  </tbody>\n",
       "</table>\n",
       "</div>"
      ],
      "text/plain": [
       "            Movie  Year  Ratings  Genre      Gross      Budget  Screens  \\\n",
       "0         13 Sins  2014      6.3      8       9130   4000000.0     45.0   \n",
       "1  22 Jump Street  2014      7.1      1  192000000  50000000.0   3306.0   \n",
       "\n",
       "   Sequel  Sentiment    Views  Likes  Dislikes  Comments  Aggregate Followers  \n",
       "0       1          0  3280543   4632       425       636            1120000.0  \n",
       "1       2          2   583289   3465        61       186           12350000.0  "
      ]
     },
     "execution_count": 5,
     "metadata": {},
     "output_type": "execute_result"
    }
   ],
   "source": [
    "movies = pd.read_excel(\"movies.xlsx\")\n",
    "movies.head(2)"
   ]
  },
  {
   "cell_type": "markdown",
   "metadata": {},
   "source": [
    "Use uma técnica de predição quantitativa que preveja `Ratings` em função de `Gross` e `Likes` . Avalie o poder preditivo de sua técnica tomando as precauções adequadas. Aqui, lembre-se de fazer `split` no dataset para avaliar qualidade do ajuste."
   ]
  },
  {
   "cell_type": "code",
   "execution_count": null,
   "metadata": {},
   "outputs": [],
   "source": []
  },
  {
   "cell_type": "markdown",
   "metadata": {},
   "source": [
    "___"
   ]
  },
  {
   "cell_type": "markdown",
   "metadata": {},
   "source": [
    "### Questão 1 QUALI - Predição de variáveis qualitativas"
   ]
  },
  {
   "cell_type": "markdown",
   "metadata": {},
   "source": [
    "**Faça esta questão se você teve uma predição QUALI no seu Projeto 3**"
   ]
  },
  {
   "cell_type": "markdown",
   "metadata": {},
   "source": [
    "Para esta questão vamos usar a função `load_diabetes` do [Scikit-Learn](https://scikit-learn.org/stable/datasets/index.html#diabetes-dataset). Vamos criar uma nova variável identificando se paciente tem ou não diabete se nível de glicose for superior a 140 mg/dL."
   ]
  },
  {
   "cell_type": "code",
   "execution_count": 17,
   "metadata": {},
   "outputs": [],
   "source": [
    "from sklearn.datasets import load_diabetes\n",
    "data = load_diabetes()\n",
    "df = pd.DataFrame(np.column_stack((data.data, data.target)), columns = data.feature_names+['target'])"
   ]
  },
  {
   "cell_type": "code",
   "execution_count": 18,
   "metadata": {},
   "outputs": [],
   "source": [
    "#Classifica cada paciente como tendo ou não diabetes\n",
    "df['Diabetes']=0 #Não possui diabetes\n",
    "df.loc[df.target>140,'Diabetes']=1 #Possui diabetes"
   ]
  },
  {
   "cell_type": "code",
   "execution_count": 19,
   "metadata": {
    "scrolled": true
   },
   "outputs": [
    {
     "data": {
      "text/html": [
       "<div>\n",
       "<style scoped>\n",
       "    .dataframe tbody tr th:only-of-type {\n",
       "        vertical-align: middle;\n",
       "    }\n",
       "\n",
       "    .dataframe tbody tr th {\n",
       "        vertical-align: top;\n",
       "    }\n",
       "\n",
       "    .dataframe thead th {\n",
       "        text-align: right;\n",
       "    }\n",
       "</style>\n",
       "<table border=\"1\" class=\"dataframe\">\n",
       "  <thead>\n",
       "    <tr style=\"text-align: right;\">\n",
       "      <th></th>\n",
       "      <th>age</th>\n",
       "      <th>sex</th>\n",
       "      <th>bmi</th>\n",
       "      <th>bp</th>\n",
       "      <th>s1</th>\n",
       "      <th>s2</th>\n",
       "      <th>s3</th>\n",
       "      <th>s4</th>\n",
       "      <th>s5</th>\n",
       "      <th>s6</th>\n",
       "      <th>target</th>\n",
       "      <th>Diabetes</th>\n",
       "    </tr>\n",
       "  </thead>\n",
       "  <tbody>\n",
       "    <tr>\n",
       "      <th>0</th>\n",
       "      <td>0.038076</td>\n",
       "      <td>0.050680</td>\n",
       "      <td>0.061696</td>\n",
       "      <td>0.021872</td>\n",
       "      <td>-0.044223</td>\n",
       "      <td>-0.034821</td>\n",
       "      <td>-0.043401</td>\n",
       "      <td>-0.002592</td>\n",
       "      <td>0.019908</td>\n",
       "      <td>-0.017646</td>\n",
       "      <td>151.0</td>\n",
       "      <td>1</td>\n",
       "    </tr>\n",
       "    <tr>\n",
       "      <th>1</th>\n",
       "      <td>-0.001882</td>\n",
       "      <td>-0.044642</td>\n",
       "      <td>-0.051474</td>\n",
       "      <td>-0.026328</td>\n",
       "      <td>-0.008449</td>\n",
       "      <td>-0.019163</td>\n",
       "      <td>0.074412</td>\n",
       "      <td>-0.039493</td>\n",
       "      <td>-0.068330</td>\n",
       "      <td>-0.092204</td>\n",
       "      <td>75.0</td>\n",
       "      <td>0</td>\n",
       "    </tr>\n",
       "    <tr>\n",
       "      <th>2</th>\n",
       "      <td>0.085299</td>\n",
       "      <td>0.050680</td>\n",
       "      <td>0.044451</td>\n",
       "      <td>-0.005671</td>\n",
       "      <td>-0.045599</td>\n",
       "      <td>-0.034194</td>\n",
       "      <td>-0.032356</td>\n",
       "      <td>-0.002592</td>\n",
       "      <td>0.002864</td>\n",
       "      <td>-0.025930</td>\n",
       "      <td>141.0</td>\n",
       "      <td>1</td>\n",
       "    </tr>\n",
       "  </tbody>\n",
       "</table>\n",
       "</div>"
      ],
      "text/plain": [
       "        age       sex       bmi        bp        s1        s2        s3  \\\n",
       "0  0.038076  0.050680  0.061696  0.021872 -0.044223 -0.034821 -0.043401   \n",
       "1 -0.001882 -0.044642 -0.051474 -0.026328 -0.008449 -0.019163  0.074412   \n",
       "2  0.085299  0.050680  0.044451 -0.005671 -0.045599 -0.034194 -0.032356   \n",
       "\n",
       "         s4        s5        s6  target  Diabetes  \n",
       "0 -0.002592  0.019908 -0.017646   151.0         1  \n",
       "1 -0.039493 -0.068330 -0.092204    75.0         0  \n",
       "2 -0.002592  0.002864 -0.025930   141.0         1  "
      ]
     },
     "execution_count": 19,
     "metadata": {},
     "output_type": "execute_result"
    }
   ],
   "source": [
    "df.head(3)"
   ]
  },
  {
   "cell_type": "code",
   "execution_count": 21,
   "metadata": {},
   "outputs": [
    {
     "name": "stdout",
     "output_type": "stream",
     "text": [
      "Optimization terminated successfully.\n",
      "         Current function value: 0.473950\n",
      "         Iterations 7\n"
     ]
    }
   ],
   "source": [
    "import statsmodels.formula.api as sm\n",
    "\n",
    "X = df.iloc[:,0:10]\n",
    "y = df.Diabetes\n",
    "\n",
    "model = sm.Logit(y, X)\n",
    "result = model.fit()"
   ]
  },
  {
   "cell_type": "code",
   "execution_count": 22,
   "metadata": {},
   "outputs": [
    {
     "data": {
      "text/html": [
       "<table class=\"simpletable\">\n",
       "<caption>Logit Regression Results</caption>\n",
       "<tr>\n",
       "  <th>Dep. Variable:</th>     <td>Diabetes</td>     <th>  No. Observations:  </th>  <td>   442</td>  \n",
       "</tr>\n",
       "<tr>\n",
       "  <th>Model:</th>               <td>Logit</td>      <th>  Df Residuals:      </th>  <td>   432</td>  \n",
       "</tr>\n",
       "<tr>\n",
       "  <th>Method:</th>               <td>MLE</td>       <th>  Df Model:          </th>  <td>     9</td>  \n",
       "</tr>\n",
       "<tr>\n",
       "  <th>Date:</th>          <td>Wed, 20 Nov 2019</td> <th>  Pseudo R-squ.:     </th>  <td>0.3162</td>  \n",
       "</tr>\n",
       "<tr>\n",
       "  <th>Time:</th>              <td>22:06:38</td>     <th>  Log-Likelihood:    </th> <td> -209.49</td> \n",
       "</tr>\n",
       "<tr>\n",
       "  <th>converged:</th>           <td>True</td>       <th>  LL-Null:           </th> <td> -306.37</td> \n",
       "</tr>\n",
       "<tr>\n",
       "  <th> </th>                      <td> </td>        <th>  LLR p-value:       </th> <td>6.690e-37</td>\n",
       "</tr>\n",
       "</table>\n",
       "<table class=\"simpletable\">\n",
       "<tr>\n",
       "   <td></td>      <th>coef</th>     <th>std err</th>      <th>z</th>      <th>P>|z|</th>  <th>[0.025</th>    <th>0.975]</th>  \n",
       "</tr>\n",
       "<tr>\n",
       "  <th>age</th> <td>    1.0370</td> <td>    2.793</td> <td>    0.371</td> <td> 0.710</td> <td>   -4.436</td> <td>    6.510</td>\n",
       "</tr>\n",
       "<tr>\n",
       "  <th>sex</th> <td>  -11.7488</td> <td>    3.078</td> <td>   -3.817</td> <td> 0.000</td> <td>  -17.782</td> <td>   -5.716</td>\n",
       "</tr>\n",
       "<tr>\n",
       "  <th>bmi</th> <td>   13.8155</td> <td>    3.309</td> <td>    4.176</td> <td> 0.000</td> <td>    7.331</td> <td>   20.300</td>\n",
       "</tr>\n",
       "<tr>\n",
       "  <th>bp</th>  <td>   11.5416</td> <td>    3.119</td> <td>    3.701</td> <td> 0.000</td> <td>    5.429</td> <td>   17.654</td>\n",
       "</tr>\n",
       "<tr>\n",
       "  <th>s1</th>  <td>  -33.0539</td> <td>   22.946</td> <td>   -1.440</td> <td> 0.150</td> <td>  -78.028</td> <td>   11.920</td>\n",
       "</tr>\n",
       "<tr>\n",
       "  <th>s2</th>  <td>   22.9752</td> <td>   19.284</td> <td>    1.191</td> <td> 0.233</td> <td>  -14.820</td> <td>   60.771</td>\n",
       "</tr>\n",
       "<tr>\n",
       "  <th>s3</th>  <td>   -0.4496</td> <td>   11.278</td> <td>   -0.040</td> <td> 0.968</td> <td>  -22.554</td> <td>   21.655</td>\n",
       "</tr>\n",
       "<tr>\n",
       "  <th>s4</th>  <td>    0.8119</td> <td>    8.012</td> <td>    0.101</td> <td> 0.919</td> <td>  -14.890</td> <td>   16.514</td>\n",
       "</tr>\n",
       "<tr>\n",
       "  <th>s5</th>  <td>   29.6414</td> <td>    9.543</td> <td>    3.106</td> <td> 0.002</td> <td>   10.937</td> <td>   48.346</td>\n",
       "</tr>\n",
       "<tr>\n",
       "  <th>s6</th>  <td>    0.0606</td> <td>    3.200</td> <td>    0.019</td> <td> 0.985</td> <td>   -6.212</td> <td>    6.333</td>\n",
       "</tr>\n",
       "</table>"
      ],
      "text/plain": [
       "<class 'statsmodels.iolib.summary.Summary'>\n",
       "\"\"\"\n",
       "                           Logit Regression Results                           \n",
       "==============================================================================\n",
       "Dep. Variable:               Diabetes   No. Observations:                  442\n",
       "Model:                          Logit   Df Residuals:                      432\n",
       "Method:                           MLE   Df Model:                            9\n",
       "Date:                Wed, 20 Nov 2019   Pseudo R-squ.:                  0.3162\n",
       "Time:                        22:06:38   Log-Likelihood:                -209.49\n",
       "converged:                       True   LL-Null:                       -306.37\n",
       "                                        LLR p-value:                 6.690e-37\n",
       "==============================================================================\n",
       "                 coef    std err          z      P>|z|      [0.025      0.975]\n",
       "------------------------------------------------------------------------------\n",
       "age            1.0370      2.793      0.371      0.710      -4.436       6.510\n",
       "sex          -11.7488      3.078     -3.817      0.000     -17.782      -5.716\n",
       "bmi           13.8155      3.309      4.176      0.000       7.331      20.300\n",
       "bp            11.5416      3.119      3.701      0.000       5.429      17.654\n",
       "s1           -33.0539     22.946     -1.440      0.150     -78.028      11.920\n",
       "s2            22.9752     19.284      1.191      0.233     -14.820      60.771\n",
       "s3            -0.4496     11.278     -0.040      0.968     -22.554      21.655\n",
       "s4             0.8119      8.012      0.101      0.919     -14.890      16.514\n",
       "s5            29.6414      9.543      3.106      0.002      10.937      48.346\n",
       "s6             0.0606      3.200      0.019      0.985      -6.212       6.333\n",
       "==============================================================================\n",
       "\"\"\""
      ]
     },
     "execution_count": 22,
     "metadata": {},
     "output_type": "execute_result"
    }
   ],
   "source": [
    "result.summary()"
   ]
  },
  {
   "cell_type": "markdown",
   "metadata": {},
   "source": [
    "Se o seu problema analisado no seu Projeto 3 tinha uma variável qualitativa como target (variável dependente) - Problema de Classificação, então aplique alguma outra técnica adequada para classificar se um paciente tem ou não diabetes em função dos atribuitos descritos em `X`.\n",
    "\n",
    "Aqui, lembre-se de fazer `split` no dataset para avaliar qualidade do ajuste."
   ]
  },
  {
   "cell_type": "code",
   "execution_count": null,
   "metadata": {},
   "outputs": [],
   "source": []
  },
  {
   "cell_type": "markdown",
   "metadata": {},
   "source": [
    "___"
   ]
  },
  {
   "cell_type": "markdown",
   "metadata": {},
   "source": [
    "___"
   ]
  },
  {
   "cell_type": "markdown",
   "metadata": {},
   "source": [
    "### PROBLEMA para as Questões 2 e 3\n",
    "\n",
    "A Marvak, uma renomada loja de departamentos, decidiu realizar uma pesquisa para verificar uma possível associação entre algumas características de seus clientes com seus gastos anuais na loja.\n",
    "\n",
    "Dessa forma, foi selecionada aleatoriamente uma amostra aleatória de $1.000$ clientes que já fizeram compra na Marvak em todas as filiais no último ano e foram observadas as seguintes informações:\n",
    "\n",
    "* **IDADE**: idade do cliente, que foi categorizada em jovem (até 30 anos), adulto (de 31 a 55 anos) ou idoso (56 ou mais anos);\n",
    "* **SEXO**: sexo do cliente (feminino ou masculino);\n",
    "* **RESIDENCIA**: tipo de residência do cliente (alugada ou própria);\n",
    "* **EC**: estado civil do cliente (casado ou solteiro);\n",
    "* **SALARIO_ANUAL**: salário anual do cliente (em reais); e\n",
    "* **GASTO_ANUAL**: gasto total anual do cliente em compras realizadas na Marvak (em reais).\n"
   ]
  },
  {
   "cell_type": "code",
   "execution_count": 24,
   "metadata": {},
   "outputs": [],
   "source": [
    "dados = pd.read_excel(\"Marvak.xlsx\")"
   ]
  },
  {
   "cell_type": "code",
   "execution_count": 25,
   "metadata": {},
   "outputs": [
    {
     "data": {
      "text/html": [
       "<div>\n",
       "<style scoped>\n",
       "    .dataframe tbody tr th:only-of-type {\n",
       "        vertical-align: middle;\n",
       "    }\n",
       "\n",
       "    .dataframe tbody tr th {\n",
       "        vertical-align: top;\n",
       "    }\n",
       "\n",
       "    .dataframe thead th {\n",
       "        text-align: right;\n",
       "    }\n",
       "</style>\n",
       "<table border=\"1\" class=\"dataframe\">\n",
       "  <thead>\n",
       "    <tr style=\"text-align: right;\">\n",
       "      <th></th>\n",
       "      <th>ID</th>\n",
       "      <th>IDADE</th>\n",
       "      <th>SEXO</th>\n",
       "      <th>RESIDENCIA</th>\n",
       "      <th>EC</th>\n",
       "      <th>SALARIO_ANUAL</th>\n",
       "      <th>GASTO_ANUAL</th>\n",
       "    </tr>\n",
       "  </thead>\n",
       "  <tbody>\n",
       "    <tr>\n",
       "      <th>0</th>\n",
       "      <td>1</td>\n",
       "      <td>Jovem</td>\n",
       "      <td>Feminino</td>\n",
       "      <td>Alugada</td>\n",
       "      <td>Solteiro</td>\n",
       "      <td>86000.00</td>\n",
       "      <td>1053.00</td>\n",
       "    </tr>\n",
       "    <tr>\n",
       "      <th>1</th>\n",
       "      <td>2</td>\n",
       "      <td>Jovem</td>\n",
       "      <td>Feminino</td>\n",
       "      <td>Propria</td>\n",
       "      <td>Casado</td>\n",
       "      <td>48543.74</td>\n",
       "      <td>321.03</td>\n",
       "    </tr>\n",
       "    <tr>\n",
       "      <th>2</th>\n",
       "      <td>3</td>\n",
       "      <td>Jovem</td>\n",
       "      <td>Feminino</td>\n",
       "      <td>Propria</td>\n",
       "      <td>Solteiro</td>\n",
       "      <td>14760.10</td>\n",
       "      <td>375.03</td>\n",
       "    </tr>\n",
       "    <tr>\n",
       "      <th>3</th>\n",
       "      <td>4</td>\n",
       "      <td>Adulto</td>\n",
       "      <td>Feminino</td>\n",
       "      <td>Alugada</td>\n",
       "      <td>Solteiro</td>\n",
       "      <td>19900.00</td>\n",
       "      <td>262.00</td>\n",
       "    </tr>\n",
       "    <tr>\n",
       "      <th>4</th>\n",
       "      <td>5</td>\n",
       "      <td>Idoso</td>\n",
       "      <td>Masculino</td>\n",
       "      <td>Alugada</td>\n",
       "      <td>Casado</td>\n",
       "      <td>119000.00</td>\n",
       "      <td>278.00</td>\n",
       "    </tr>\n",
       "  </tbody>\n",
       "</table>\n",
       "</div>"
      ],
      "text/plain": [
       "   ID   IDADE       SEXO RESIDENCIA        EC  SALARIO_ANUAL  GASTO_ANUAL\n",
       "0   1   Jovem   Feminino    Alugada  Solteiro       86000.00      1053.00\n",
       "1   2   Jovem   Feminino    Propria    Casado       48543.74       321.03\n",
       "2   3   Jovem   Feminino    Propria  Solteiro       14760.10       375.03\n",
       "3   4  Adulto   Feminino    Alugada  Solteiro       19900.00       262.00\n",
       "4   5   Idoso  Masculino    Alugada    Casado      119000.00       278.00"
      ]
     },
     "execution_count": 25,
     "metadata": {},
     "output_type": "execute_result"
    }
   ],
   "source": [
    "dados.head()"
   ]
  },
  {
   "cell_type": "code",
   "execution_count": 26,
   "metadata": {},
   "outputs": [
    {
     "data": {
      "text/plain": [
       "Index(['ID', 'IDADE', 'SEXO', 'RESIDENCIA', 'EC', 'SALARIO_ANUAL',\n",
       "       'GASTO_ANUAL'],\n",
       "      dtype='object')"
      ]
     },
     "execution_count": 26,
     "metadata": {},
     "output_type": "execute_result"
    }
   ],
   "source": [
    "dados.columns"
   ]
  },
  {
   "cell_type": "code",
   "execution_count": 27,
   "metadata": {},
   "outputs": [],
   "source": [
    "dados.IDADE = dados.IDADE.astype('category')\n",
    "dados.SEXO = dados.SEXO.astype('category')\n",
    "dados.RESIDENCIA = dados.RESIDENCIA.astype('category')\n",
    "dados.EC = dados.EC.astype('category')"
   ]
  },
  {
   "cell_type": "code",
   "execution_count": 28,
   "metadata": {
    "scrolled": true
   },
   "outputs": [
    {
     "data": {
      "text/plain": [
       "ID                  int64\n",
       "IDADE            category\n",
       "SEXO             category\n",
       "RESIDENCIA       category\n",
       "EC               category\n",
       "SALARIO_ANUAL     float64\n",
       "GASTO_ANUAL       float64\n",
       "dtype: object"
      ]
     },
     "execution_count": 28,
     "metadata": {},
     "output_type": "execute_result"
    }
   ],
   "source": [
    "dados.dtypes"
   ]
  },
  {
   "cell_type": "markdown",
   "metadata": {},
   "source": [
    "___"
   ]
  },
  {
   "cell_type": "markdown",
   "metadata": {},
   "source": [
    "### Questão 2 - Teste de Hipóteses"
   ]
  },
  {
   "cell_type": "markdown",
   "metadata": {},
   "source": [
    "O departamento financeiro da Marvak acredita que os clientes de qualquer filial dessa rede gastaram, em média, mais do que $500$ reais no último ano.\n",
    "\n",
    "Levando em consideração a amostra disponível na base de dados, verifique se há evidências suficiente para afirmar que a suspeita do departamento financeiro procede.\n",
    "\n",
    "**Para resolução desta questão, deixe claro:**\n",
    "\n",
    "1) Construção das Hipóteses Nula e Alternativa em termos do problema e do parâmetro. `(1,0 ponto)`\n",
    "\n",
    "Símbolos úteis: $H_0$ , $H_1$, $\\mu$, $>$, $\\geq$, $<$, $\\leq$"
   ]
  },
  {
   "cell_type": "markdown",
   "metadata": {},
   "source": [
    "**R.:**"
   ]
  },
  {
   "cell_type": "markdown",
   "metadata": {},
   "source": [
    "2) Cálculo do valor *p* do teste. `(0,75 ponto)`"
   ]
  },
  {
   "cell_type": "code",
   "execution_count": null,
   "metadata": {},
   "outputs": [],
   "source": []
  },
  {
   "cell_type": "markdown",
   "metadata": {},
   "source": [
    "3) Conclusão em termos do problema, deixando claro quais resultados foram utilizados para tal decisão. `(0,75 ponto)`"
   ]
  },
  {
   "cell_type": "markdown",
   "metadata": {},
   "source": [
    "**R.:**"
   ]
  },
  {
   "cell_type": "markdown",
   "metadata": {},
   "source": [
    "4) Qual ou quais suposições foram feitas para a escolha da distribuição utilizada no item (2) desta questão. Se há suposição para a distribuição de probabilidades da variáveis de interesse, verifique-a de utilizando algum recurso gráfico. `(1,0 ponto)`"
   ]
  },
  {
   "cell_type": "markdown",
   "metadata": {},
   "source": [
    "**R.:**"
   ]
  },
  {
   "cell_type": "code",
   "execution_count": null,
   "metadata": {},
   "outputs": [],
   "source": []
  },
  {
   "cell_type": "markdown",
   "metadata": {},
   "source": [
    "___"
   ]
  },
  {
   "cell_type": "markdown",
   "metadata": {},
   "source": [
    "### Questão 3 - Modelo de predição"
   ]
  },
  {
   "cell_type": "markdown",
   "metadata": {},
   "source": [
    "Assuma que o objetivo da Marvak seja traçar o perfil de clientes com maior potencial de consumo na loja Marvak. Ou seja, considerando as variáveis mensuradas na base de dados, quais as características que melhor definem o segmento de clientes da Marvak.\n",
    "\n",
    "Assim, considere que a variável `GASTO_ANUAL` é a variável-alvo a ser predita e as demais variáveis da base de dados são as variáveis explicativas.\n",
    "\n",
    " \n",
    "**Para resolução desta questão, faça:**\n",
    "\n",
    "1) Gráfico de dispersão do `SALARIO_ANUAL` versus `GASTO_ANUAL` separando os clientes que residem em casa `Alugada` e casa `Propria`. Interprete-o. `(0,75 ponto)`\n",
    " "
   ]
  },
  {
   "cell_type": "code",
   "execution_count": null,
   "metadata": {},
   "outputs": [],
   "source": []
  },
  {
   "cell_type": "markdown",
   "metadata": {},
   "source": [
    " \n",
    "2) Considerando apenas os clientes que possuem residência `Alugada`, ajuste uma reta para prever `GASTO_ANUAL` de acordo com o `SALARIO_ANUAL` do cliente. Considerando o valor *p* de um ajuste linear, a reta é significante? Qual deve ser o `GASTO_ANUAL` previsto para um cliente que possui residência `Alugada` e `SALARIO_ANUAL` de 130 mil reais? `(1,00 ponto)`\n",
    " "
   ]
  },
  {
   "cell_type": "code",
   "execution_count": null,
   "metadata": {},
   "outputs": [],
   "source": []
  },
  {
   "cell_type": "markdown",
   "metadata": {},
   "source": [
    " \n",
    "3) Considerando apenas os clientes que possuem residência `Propria`, ajuste uma reta para prever `GASTO_ANUAL` de acordo com o `SALARIO_ANUAL` do cliente. Considerando o valor *p* de um ajuste linear, a reta é significante? Qual deve ser o `GASTO_ANUAL` previsto para um cliente que possui residência `Propria` e `SALARIO_ANUAL` de 130 mil reais? `(1,00 ponto)`"
   ]
  },
  {
   "cell_type": "code",
   "execution_count": null,
   "metadata": {},
   "outputs": [],
   "source": []
  },
  {
   "cell_type": "markdown",
   "metadata": {},
   "source": [
    "4) As variáveis `RESIDENCIA` e  `SALARIO_ANUAL` poderiam ser consideradas simultaneamente num modelo de regressão para estimar `GASTO_ANUAL` de um cliente da Marvak? Justifique. **Nota:** Aqui não é necessário ajustar um modelo, mas sim explicar se seria possível e como você procederia deixando claro os cuidados que teria para incluir ambas as variáveis no modelo. `(0,75 ponto)`\n",
    " "
   ]
  },
  {
   "cell_type": "code",
   "execution_count": null,
   "metadata": {},
   "outputs": [],
   "source": []
  },
  {
   "cell_type": "markdown",
   "metadata": {},
   "source": [
    "___"
   ]
  },
  {
   "cell_type": "markdown",
   "metadata": {},
   "source": [
    "### Questão 4 - Variáveis aleatórias"
   ]
  },
  {
   "cell_type": "markdown",
   "metadata": {},
   "source": [
    "**(Questão extraída do ENADE 2017) **\n",
    "\n",
    "Suponha que determinado programa de computador seja executado por meio de 13 etapas, com tempo médio de 50 segundos ao todo e dispersão relativa de 10% em torno da média.\n",
    "\n",
    "Considere que uma equipe de engenharia propõe um novo algoritmo que reduz em 30% o tempo de execução de todas as 13 etapas desse programa.\n",
    "\n",
    "Nesse contexto, avalie as afirmações a seguir, a respeito do tempo de execução do novo algoritmo.\n",
    "\n",
    "    I.\tO tempo médio por etapa será 32,5 segundos.\n",
    "    II.\tO desvio-padrão permanecerá inalterado.\n",
    "    III.\tA dispersão relativa em torno da média permanecerá inalterada.\n",
    "\n",
    "É correto o que se afirma em: \n",
    "    \n",
    "    A)\tI, apenas\n",
    "    B)\tIII, apenas\n",
    "    C)\tI e II, apenas\n",
    "    D)\tII e III, apenas\n",
    "    E)\tI, II e III\n",
    "\n",
    "Deixe aqui seu RACIOCÍNIO feito para A ESCOLHA DA ALTERNATIVA ASSINALADA!! "
   ]
  },
  {
   "cell_type": "markdown",
   "metadata": {},
   "source": [
    "(ESTE EXERCÍCIO SERÁ ANULADO SE NÃO HOUVER DESENVOLVIMENTO DE RACIOCÍNIO PARA A ESCOLHA DA ALTERNATIVA, MESMO SE ASSINALADA A RESPOSTA CORRETA)"
   ]
  },
  {
   "cell_type": "markdown",
   "metadata": {},
   "source": [
    "É útil saber que **dispersão relativa** é dada pela seguinte fórmula:\n",
    "\n",
    "$$DR = \\frac{\\sigma}{\\mu}$$"
   ]
  },
  {
   "cell_type": "markdown",
   "metadata": {},
   "source": [
    "**R.**\n",
    "\n"
   ]
  }
 ],
 "metadata": {
  "kernelspec": {
   "display_name": "Python 3",
   "language": "python",
   "name": "python3"
  },
  "language_info": {
   "codemirror_mode": {
    "name": "ipython",
    "version": 3
   },
   "file_extension": ".py",
   "mimetype": "text/x-python",
   "name": "python",
   "nbconvert_exporter": "python",
   "pygments_lexer": "ipython3",
   "version": "3.7.5"
  }
 },
 "nbformat": 4,
 "nbformat_minor": 4
}
